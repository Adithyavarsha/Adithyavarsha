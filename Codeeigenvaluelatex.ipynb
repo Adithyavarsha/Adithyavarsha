{
  "nbformat": 4,
  "nbformat_minor": 0,
  "metadata": {
    "colab": {
      "provenance": [],
      "authorship_tag": "ABX9TyN6r8SIAMiA8DNv25tab4v4",
      "include_colab_link": true
    },
    "kernelspec": {
      "name": "python3",
      "display_name": "Python 3"
    },
    "language_info": {
      "name": "python"
    }
  },
  "cells": [
    {
      "cell_type": "markdown",
      "metadata": {
        "id": "view-in-github",
        "colab_type": "text"
      },
      "source": [
        "<a href=\"https://colab.research.google.com/github/Adithyavarsha/Adithyavarsha/blob/main/Codeeigenvaluelatex.ipynb\" target=\"_parent\"><img src=\"https://colab.research.google.com/assets/colab-badge.svg\" alt=\"Open In Colab\"/></a>"
      ]
    },
    {
      "cell_type": "code",
      "execution_count": 1,
      "metadata": {
        "id": "b57IFcbaduo9",
        "colab": {
          "base_uri": "https://localhost:8080/"
        },
        "outputId": "bb660e4e-ca59-484c-91af-60b58456073e"
      },
      "outputs": [
        {
          "output_type": "stream",
          "name": "stdout",
          "text": [
            "b e l o - b e \\left(k - z\\right) \\left(p - z\\right) + b g i \\left(p - z\\right) - b g l m - b h i o + b h m \\left(k - z\\right) + c e j \\left(p - z\\right) - c e l n + c h i n - c h j m - c i \\left(f - z\\right) \\left(p - z\\right) + c j m \\left(f - z\\right) - d e j o + d e n \\left(k - z\\right) - d g i n + d g j m + d i o \\left(f - z\\right) - d m \\left(f - z\\right) \\left(k - z\\right) - g i \\left(a - z\\right) \\left(p - z\\right) + g l n \\left(a - z\\right) + h j o \\left(a - z\\right) - h n \\left(a - z\\right) \\left(k - z\\right) - l o \\left(a - z\\right) \\left(f - z\\right) + \\left(a - z\\right) \\left(f - z\\right) \\left(k - z\\right) \\left(p - z\\right)\n"
          ]
        }
      ],
      "source": [
        "from sympy import symbols, latex\n",
        "\n",
        "# Define the symbols\n",
        "a, b, c, d, e, f, g, h, i, j, k, l, m, n, o, p, z = symbols('a b c d e f g h i j k l m n o p z')\n",
        "\n",
        "# Set up the equation\n",
        "equation = (a - z)*(f - z)*(k - z)*(p - z) + (a - z)*g*l*n + (a - z)*h*j*o - (a - z)*h*(k - z)*n - (a - z)*g*i*(p - z) - (a - z)*(f - z)*l*o - b*e*(k - z)*(p - z) - c*e*l*n - d*e*j*o + d*e*(k - z)*n + c*e*j*(p - z) + b*e*l*o + b*g*i*(p - z) + c*h*i*n + d*(f - z)*i*o - d*g*i*n - c*(f - z)*i*(p - z) - b*h*i*o - b*g*l*m - c*h*j*m - d*(f - z)*(k - z)*m + d*g*j*m + c*(f - z)*j*m + b*h*(k - z)*m\n",
        "\n",
        "# Get the LaTeX code for the equation\n",
        "latex_code = latex(equation)\n",
        "print(latex_code)\n"
      ]
    },
    {
      "cell_type": "code",
      "source": [
        "import sympy as sp\n",
        "\n",
        "# Define symbols\n",
        "x1, x2, x3, x4, t1, t2, t3, t4, k1, k2, k3, k4, z1, z2, z3, z4, x0, c1, c2, c3, c4, m1, m2, m3, m4,x = sp.symbols('x1 x2 x3 x4 t1 t2 t3 t4 k1 k2 k3 k4 z1 z2 z3 z4 x0 c1 c2 c3 c4 m1 m2 m3 m4 x')\n",
        "\n",
        "# Define u_i expressions\n",
        "u1 = t1 * sp.diff(sp.Function('u1')(t1, x1, x2, x3, x4), t1) + k1 + z1 * sp.diff(x1, x)\n",
        "u2 = t2 * sp.diff(sp.Function('u2')(t2, x1, x2, x3, x4), t2) + k2 + z2 * sp.diff(x2, x)\n",
        "u3 = t3 * sp.diff(sp.Function('u3')(t3, x1, x2, x3, x4), t3) + k3 + z3 * sp.diff(x3, x)\n",
        "u4 = t4 * sp.diff(sp.Function('u4')(t4, x1, x2, x3, x4), t4) + k4 + z4 * sp.diff(x4, x)\n",
        "\n",
        "# Define x0 equation\n",
        "x_eq = x1 + x2 + x3 + x4 - x0 * (1 + c1 * m1 + c2 * m2 + c3 * m3 + c4 * m4)\n",
        "\n",
        "# Define the functions\n",
        "f1 = u1 * sp.Function('C1')(x1, x2, x3, x4) - sp.Function('D1')(x1, x2, x3, x4)\n",
        "f2 = u2 * sp.Function('C2')(x1, x2, x3, x4) - sp.Function('D2')(x1, x2, x3, x4)\n",
        "f3 = u3 * sp.Function('C3')(x1, x2, x3, x4) - sp.Function('D3')(x1, x2, x3, x4)\n",
        "f4 = u4 * sp.Function('C4')(x1, x2, x3, x4) - sp.Function('D4')(x1, x2, x3, x4)\n",
        "\n",
        "# Create a vector of the functions\n",
        "F = sp.Matrix([f1, f2, f3, f4])\n",
        "\n",
        "# Define the variables\n",
        "vars = sp.Matrix([x1, x2, x3, x4])\n",
        "\n",
        "# Compute the Jacobian matrix\n",
        "J = F.jacobian(vars)\n",
        "\n",
        "# Compute the eigenvalues of the Jacobian matrix\n",
        "eigenvals = J.eigenvals()\n",
        "\n",
        "# Print the eigenvalues of the Jacobian matrix\n",
        "print(\"\\nEigenvalues of the Jacobian matrix:\")\n",
        "for eigenval, multiplicity in eigenvals.items():\n",
        "    print(f\"{eigenval}: multiplicity {multiplicity}\")"
      ],
      "metadata": {
        "id": "FkWcaDxAIQ7a"
      },
      "execution_count": null,
      "outputs": []
    }
  ]
}