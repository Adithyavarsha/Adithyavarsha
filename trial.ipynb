{
  "nbformat": 4,
  "nbformat_minor": 0,
  "metadata": {
    "colab": {
      "provenance": [],
      "authorship_tag": "ABX9TyMonh6Gjoy/e21suBqYhLj7",
      "include_colab_link": true
    },
    "kernelspec": {
      "name": "python3",
      "display_name": "Python 3"
    },
    "language_info": {
      "name": "python"
    }
  },
  "cells": [
    {
      "cell_type": "markdown",
      "metadata": {
        "id": "view-in-github",
        "colab_type": "text"
      },
      "source": [
        "<a href=\"https://colab.research.google.com/github/Adithyavarsha/Adithyavarsha/blob/main/trial.ipynb\" target=\"_parent\"><img src=\"https://colab.research.google.com/assets/colab-badge.svg\" alt=\"Open In Colab\"/></a>"
      ]
    },
    {
      "cell_type": "code",
      "execution_count": null,
      "metadata": {
        "id": "b57IFcbaduo9"
      },
      "outputs": [],
      "source": [
        "from sympy import symbols, solve\n",
        "\n",
        "# Define the symbols\n",
        "a,b,c,d,e,f,g,h,i,j,k,l,m,n,o,p,z = symbols('a b c d e f g h i j k l m n o p z')\n",
        "\n",
        "# Set up the equation\n",
        "equation = (a - z)*(f-z)*(k-z)*(p-z)+(a-z)*g*l*n+(a-z)*h*j*o-(a-z)*h*(k-z)*n-(a-z)*g*i*(p-z)-(a-z)*(f-z)*l*o-b*e*(k-z)*(p-z)-c*e*l*n-d*e*j*o+d*e*(k-z)*n+c*e*j*(p-z)+b*e*l*o+b*g*i*(p-z)+c*h*i*n+d*(f-z)*i*o-d*g*i*n-c*(f-z)*i*(p-z)-b*h*i*o-b*g*l*m-c*h*j*m-d*(f-z)*(k-z)*m+d*g*j*m+c*(f-z)*j*m+b*h*(k-z)*m\n",
        "\n",
        "# Solve the equation for z\n",
        "solutions = solve(equation, z)\n",
        "print(solutions)"
      ]
    }
  ]
}